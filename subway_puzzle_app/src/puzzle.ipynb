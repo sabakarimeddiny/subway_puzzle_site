{
 "cells": [
  {
   "cell_type": "code",
   "execution_count": 1,
   "id": "e3a2ebd7-1f86-4bae-8a99-b24dac0e54f1",
   "metadata": {},
   "outputs": [],
   "source": [
    "import numpy as np\n",
    "import pandas as pd\n",
    "from puzzle import Puzzle"
   ]
  },
  {
   "cell_type": "code",
   "execution_count": 3,
   "id": "a9e1b414-29da-427b-bbae-366ee6616a9d",
   "metadata": {},
   "outputs": [],
   "source": [
    "a = Puzzle()"
   ]
  },
  {
   "cell_type": "code",
   "execution_count": 10,
   "id": "6c185801-a16a-4a88-91dc-89a28857e46d",
   "metadata": {},
   "outputs": [
    {
     "data": {
      "text/plain": [
       "False"
      ]
     },
     "execution_count": 10,
     "metadata": {},
     "output_type": "execute_result"
    }
   ],
   "source": [
    "a.verify_solution(['2', 'L'],[[{'4', '6', '6 Express'}, {'L'}]])"
   ]
  },
  {
   "cell_type": "code",
   "execution_count": 10,
   "id": "6a0dbb2d-1165-4094-ad47-b84233bae895",
   "metadata": {},
   "outputs": [
    {
     "data": {
      "text/plain": [
       "array(['Beach 67th St', 'Broadway Junction'], dtype=object)"
      ]
     },
     "execution_count": 10,
     "metadata": {},
     "output_type": "execute_result"
    }
   ],
   "source": [
    "a.subway_table.sample(2)['NAME'].values"
   ]
  },
  {
   "cell_type": "code",
   "execution_count": 12,
   "id": "cd84ab29-e9d6-43c7-b573-e898f403660f",
   "metadata": {},
   "outputs": [
    {
     "data": {
      "text/plain": [
       "'[[[1, 2], [3, 4]]]'"
      ]
     },
     "execution_count": 12,
     "metadata": {},
     "output_type": "execute_result"
    }
   ],
   "source": [
    "import json\n",
    "json.dumps([[[1,2],[3,4]]])"
   ]
  },
  {
   "cell_type": "code",
   "execution_count": 13,
   "id": "2ddf3f8f-a136-4493-9b4d-30cdc505d3c3",
   "metadata": {},
   "outputs": [
    {
     "ename": "JSONDecodeError",
     "evalue": "Expecting value: line 1 column 1 (char 0)",
     "output_type": "error",
     "traceback": [
      "\u001b[0;31m---------------------------------------------------------------------------\u001b[0m",
      "\u001b[0;31mJSONDecodeError\u001b[0m                           Traceback (most recent call last)",
      "\u001b[0;32m/var/folders/c3/9y335k5s08sdzh29h22cmxhm0000gn/T/ipykernel_12107/1664563210.py\u001b[0m in \u001b[0;36m<module>\u001b[0;34m\u001b[0m\n\u001b[0;32m----> 1\u001b[0;31m \u001b[0mjson\u001b[0m\u001b[0;34m.\u001b[0m\u001b[0mloads\u001b[0m\u001b[0;34m(\u001b[0m\u001b[0;34m''\u001b[0m\u001b[0;34m)\u001b[0m\u001b[0;34m\u001b[0m\u001b[0;34m\u001b[0m\u001b[0m\n\u001b[0m",
      "\u001b[0;32m~/opt/anaconda3/lib/python3.9/json/__init__.py\u001b[0m in \u001b[0;36mloads\u001b[0;34m(s, cls, object_hook, parse_float, parse_int, parse_constant, object_pairs_hook, **kw)\u001b[0m\n\u001b[1;32m    344\u001b[0m             \u001b[0mparse_int\u001b[0m \u001b[0;32mis\u001b[0m \u001b[0;32mNone\u001b[0m \u001b[0;32mand\u001b[0m \u001b[0mparse_float\u001b[0m \u001b[0;32mis\u001b[0m \u001b[0;32mNone\u001b[0m \u001b[0;32mand\u001b[0m\u001b[0;34m\u001b[0m\u001b[0;34m\u001b[0m\u001b[0m\n\u001b[1;32m    345\u001b[0m             parse_constant is None and object_pairs_hook is None and not kw):\n\u001b[0;32m--> 346\u001b[0;31m         \u001b[0;32mreturn\u001b[0m \u001b[0m_default_decoder\u001b[0m\u001b[0;34m.\u001b[0m\u001b[0mdecode\u001b[0m\u001b[0;34m(\u001b[0m\u001b[0ms\u001b[0m\u001b[0;34m)\u001b[0m\u001b[0;34m\u001b[0m\u001b[0;34m\u001b[0m\u001b[0m\n\u001b[0m\u001b[1;32m    347\u001b[0m     \u001b[0;32mif\u001b[0m \u001b[0mcls\u001b[0m \u001b[0;32mis\u001b[0m \u001b[0;32mNone\u001b[0m\u001b[0;34m:\u001b[0m\u001b[0;34m\u001b[0m\u001b[0;34m\u001b[0m\u001b[0m\n\u001b[1;32m    348\u001b[0m         \u001b[0mcls\u001b[0m \u001b[0;34m=\u001b[0m \u001b[0mJSONDecoder\u001b[0m\u001b[0;34m\u001b[0m\u001b[0;34m\u001b[0m\u001b[0m\n",
      "\u001b[0;32m~/opt/anaconda3/lib/python3.9/json/decoder.py\u001b[0m in \u001b[0;36mdecode\u001b[0;34m(self, s, _w)\u001b[0m\n\u001b[1;32m    335\u001b[0m \u001b[0;34m\u001b[0m\u001b[0m\n\u001b[1;32m    336\u001b[0m         \"\"\"\n\u001b[0;32m--> 337\u001b[0;31m         \u001b[0mobj\u001b[0m\u001b[0;34m,\u001b[0m \u001b[0mend\u001b[0m \u001b[0;34m=\u001b[0m \u001b[0mself\u001b[0m\u001b[0;34m.\u001b[0m\u001b[0mraw_decode\u001b[0m\u001b[0;34m(\u001b[0m\u001b[0ms\u001b[0m\u001b[0;34m,\u001b[0m \u001b[0midx\u001b[0m\u001b[0;34m=\u001b[0m\u001b[0m_w\u001b[0m\u001b[0;34m(\u001b[0m\u001b[0ms\u001b[0m\u001b[0;34m,\u001b[0m \u001b[0;36m0\u001b[0m\u001b[0;34m)\u001b[0m\u001b[0;34m.\u001b[0m\u001b[0mend\u001b[0m\u001b[0;34m(\u001b[0m\u001b[0;34m)\u001b[0m\u001b[0;34m)\u001b[0m\u001b[0;34m\u001b[0m\u001b[0;34m\u001b[0m\u001b[0m\n\u001b[0m\u001b[1;32m    338\u001b[0m         \u001b[0mend\u001b[0m \u001b[0;34m=\u001b[0m \u001b[0m_w\u001b[0m\u001b[0;34m(\u001b[0m\u001b[0ms\u001b[0m\u001b[0;34m,\u001b[0m \u001b[0mend\u001b[0m\u001b[0;34m)\u001b[0m\u001b[0;34m.\u001b[0m\u001b[0mend\u001b[0m\u001b[0;34m(\u001b[0m\u001b[0;34m)\u001b[0m\u001b[0;34m\u001b[0m\u001b[0;34m\u001b[0m\u001b[0m\n\u001b[1;32m    339\u001b[0m         \u001b[0;32mif\u001b[0m \u001b[0mend\u001b[0m \u001b[0;34m!=\u001b[0m \u001b[0mlen\u001b[0m\u001b[0;34m(\u001b[0m\u001b[0ms\u001b[0m\u001b[0;34m)\u001b[0m\u001b[0;34m:\u001b[0m\u001b[0;34m\u001b[0m\u001b[0;34m\u001b[0m\u001b[0m\n",
      "\u001b[0;32m~/opt/anaconda3/lib/python3.9/json/decoder.py\u001b[0m in \u001b[0;36mraw_decode\u001b[0;34m(self, s, idx)\u001b[0m\n\u001b[1;32m    353\u001b[0m             \u001b[0mobj\u001b[0m\u001b[0;34m,\u001b[0m \u001b[0mend\u001b[0m \u001b[0;34m=\u001b[0m \u001b[0mself\u001b[0m\u001b[0;34m.\u001b[0m\u001b[0mscan_once\u001b[0m\u001b[0;34m(\u001b[0m\u001b[0ms\u001b[0m\u001b[0;34m,\u001b[0m \u001b[0midx\u001b[0m\u001b[0;34m)\u001b[0m\u001b[0;34m\u001b[0m\u001b[0;34m\u001b[0m\u001b[0m\n\u001b[1;32m    354\u001b[0m         \u001b[0;32mexcept\u001b[0m \u001b[0mStopIteration\u001b[0m \u001b[0;32mas\u001b[0m \u001b[0merr\u001b[0m\u001b[0;34m:\u001b[0m\u001b[0;34m\u001b[0m\u001b[0;34m\u001b[0m\u001b[0m\n\u001b[0;32m--> 355\u001b[0;31m             \u001b[0;32mraise\u001b[0m \u001b[0mJSONDecodeError\u001b[0m\u001b[0;34m(\u001b[0m\u001b[0;34m\"Expecting value\"\u001b[0m\u001b[0;34m,\u001b[0m \u001b[0ms\u001b[0m\u001b[0;34m,\u001b[0m \u001b[0merr\u001b[0m\u001b[0;34m.\u001b[0m\u001b[0mvalue\u001b[0m\u001b[0;34m)\u001b[0m \u001b[0;32mfrom\u001b[0m \u001b[0;32mNone\u001b[0m\u001b[0;34m\u001b[0m\u001b[0;34m\u001b[0m\u001b[0m\n\u001b[0m\u001b[1;32m    356\u001b[0m         \u001b[0;32mreturn\u001b[0m \u001b[0mobj\u001b[0m\u001b[0;34m,\u001b[0m \u001b[0mend\u001b[0m\u001b[0;34m\u001b[0m\u001b[0;34m\u001b[0m\u001b[0m\n",
      "\u001b[0;31mJSONDecodeError\u001b[0m: Expecting value: line 1 column 1 (char 0)"
     ]
    }
   ],
   "source": [
    "json.loads('')"
   ]
  },
  {
   "cell_type": "code",
   "execution_count": null,
   "id": "eae34aa0-ca68-4b05-93f0-c370c50a70b1",
   "metadata": {},
   "outputs": [],
   "source": []
  },
  {
   "cell_type": "code",
   "execution_count": null,
   "id": "7929627d-9a14-49cf-a1ec-314a0782c818",
   "metadata": {},
   "outputs": [],
   "source": []
  },
  {
   "cell_type": "code",
   "execution_count": null,
   "id": "7a369d2b-c118-448a-baf8-9a9b2cc951ea",
   "metadata": {},
   "outputs": [],
   "source": []
  },
  {
   "cell_type": "code",
   "execution_count": 2,
   "id": "68f6ff97-6a77-4328-b63d-b98cd6c7555e",
   "metadata": {},
   "outputs": [],
   "source": [
    "def get_coords_from_string(string):\n",
    "    return np.array(string.split('(')[1].split(')')[0].split(' ')).astype(float)"
   ]
  },
  {
   "cell_type": "code",
   "execution_count": 3,
   "id": "b122ff29-7be2-4421-b67b-b77598ccbc0e",
   "metadata": {},
   "outputs": [],
   "source": [
    "a = pd.read_csv('./data/subway.csv').drop(columns=['URL','OBJECTID'])\n",
    "a['the_geom'] = [get_coords_from_string(x) for x in a['the_geom']]\n",
    "a['LINE'] = [x.split('-') for x in a['LINE'].values]\n",
    "a['NOTES'] = [x.split(',') for x in a['NOTES'].values]\n"
   ]
  },
  {
   "cell_type": "code",
   "execution_count": 4,
   "id": "872b41e7-8c77-47bb-9d48-613b8ed8c85d",
   "metadata": {},
   "outputs": [
    {
     "data": {
      "text/html": [
       "<div>\n",
       "<style scoped>\n",
       "    .dataframe tbody tr th:only-of-type {\n",
       "        vertical-align: middle;\n",
       "    }\n",
       "\n",
       "    .dataframe tbody tr th {\n",
       "        vertical-align: top;\n",
       "    }\n",
       "\n",
       "    .dataframe thead th {\n",
       "        text-align: right;\n",
       "    }\n",
       "</style>\n",
       "<table border=\"1\" class=\"dataframe\">\n",
       "  <thead>\n",
       "    <tr style=\"text-align: right;\">\n",
       "      <th></th>\n",
       "      <th>NAME</th>\n",
       "      <th>the_geom</th>\n",
       "      <th>LINE</th>\n",
       "      <th>NOTES</th>\n",
       "    </tr>\n",
       "  </thead>\n",
       "  <tbody>\n",
       "    <tr>\n",
       "      <th>0</th>\n",
       "      <td>Astor Pl</td>\n",
       "      <td>[-73.99106999861966, 40.73005400028978]</td>\n",
       "      <td>[4, 6, 6 Express]</td>\n",
       "      <td>[4 nights,  6-all times,  6 Express-weekdays A...</td>\n",
       "    </tr>\n",
       "    <tr>\n",
       "      <th>1</th>\n",
       "      <td>Canal St</td>\n",
       "      <td>[-74.00019299927328, 40.71880300107709]</td>\n",
       "      <td>[4, 6, 6 Express]</td>\n",
       "      <td>[4 nights,  6-all times,  6 Express-weekdays A...</td>\n",
       "    </tr>\n",
       "    <tr>\n",
       "      <th>2</th>\n",
       "      <td>50th St</td>\n",
       "      <td>[-73.98384899986625, 40.76172799961419]</td>\n",
       "      <td>[1, 2]</td>\n",
       "      <td>[1-all times,  2-nights]</td>\n",
       "    </tr>\n",
       "    <tr>\n",
       "      <th>3</th>\n",
       "      <td>Bergen St</td>\n",
       "      <td>[-73.97499915116808, 40.68086213682956]</td>\n",
       "      <td>[2, 3, 4]</td>\n",
       "      <td>[4-nights,  3-all other times,  2-all times]</td>\n",
       "    </tr>\n",
       "    <tr>\n",
       "      <th>4</th>\n",
       "      <td>Pennsylvania Ave</td>\n",
       "      <td>[-73.89488591154061, 40.66471445143568]</td>\n",
       "      <td>[3, 4]</td>\n",
       "      <td>[4-nights,  3-all other times]</td>\n",
       "    </tr>\n",
       "  </tbody>\n",
       "</table>\n",
       "</div>"
      ],
      "text/plain": [
       "               NAME                                 the_geom  \\\n",
       "0          Astor Pl  [-73.99106999861966, 40.73005400028978]   \n",
       "1          Canal St  [-74.00019299927328, 40.71880300107709]   \n",
       "2           50th St  [-73.98384899986625, 40.76172799961419]   \n",
       "3         Bergen St  [-73.97499915116808, 40.68086213682956]   \n",
       "4  Pennsylvania Ave  [-73.89488591154061, 40.66471445143568]   \n",
       "\n",
       "                LINE                                              NOTES  \n",
       "0  [4, 6, 6 Express]  [4 nights,  6-all times,  6 Express-weekdays A...  \n",
       "1  [4, 6, 6 Express]  [4 nights,  6-all times,  6 Express-weekdays A...  \n",
       "2             [1, 2]                           [1-all times,  2-nights]  \n",
       "3          [2, 3, 4]       [4-nights,  3-all other times,  2-all times]  \n",
       "4             [3, 4]                     [4-nights,  3-all other times]  "
      ]
     },
     "execution_count": 4,
     "metadata": {},
     "output_type": "execute_result"
    }
   ],
   "source": [
    "a.head()"
   ]
  },
  {
   "cell_type": "code",
   "execution_count": 5,
   "id": "33a2a7be-d1e9-425a-b30f-9eba5fc98d7c",
   "metadata": {},
   "outputs": [],
   "source": [
    "def get_coord_dist(coords1, coords2):\n",
    "    return np.sqrt(np.sum((np.array(coords1) - np.array(coords2))**2))"
   ]
  },
  {
   "cell_type": "code",
   "execution_count": 6,
   "id": "d29556c8-ad1c-49fd-bcca-91e687640773",
   "metadata": {},
   "outputs": [],
   "source": [
    "THRESHOLD = 0.002\n",
    "indices_to_drop = []\n",
    "for i in range(len(a)):\n",
    "    if i in indices_to_drop:\n",
    "        continue\n",
    "    try:\n",
    "        current_station = a.loc[i]\n",
    "    except KeyError:\n",
    "        continue\n",
    "    for j in range(len(a)):\n",
    "        if j == i or j in indices_to_drop:\n",
    "            continue\n",
    "        else:\n",
    "            try:\n",
    "                candidate_station = a.loc[j]\n",
    "            except KeyError:\n",
    "                continue\n",
    "            if current_station['NAME'] == candidate_station['NAME']:\n",
    "                if get_coord_dist(current_station['the_geom'],candidate_station['the_geom']) < THRESHOLD:\n",
    "                    [current_station['LINE'].append(x) for x in candidate_station['LINE']]\n",
    "                    [current_station['NOTES'].append(x) for x in candidate_station['NOTES']]\n",
    "                    current_station['LINE'] = list(set(current_station['LINE']))\n",
    "                    current_station['NOTES'] = list(set(current_station['NOTES']))\n",
    "                    indices_to_drop.append(j)\n",
    "                else:\n",
    "                    candidate_station['NAME'] = candidate_station['NAME'] + '_'\n",
    "df = a.drop(indices_to_drop)\n",
    "df = df.reset_index().drop('index',axis=1)"
   ]
  },
  {
   "cell_type": "code",
   "execution_count": 21,
   "id": "6a158d2b-f1bb-4aec-b470-3f5b475e7c0c",
   "metadata": {},
   "outputs": [
    {
     "data": {
      "text/html": [
       "<div>\n",
       "<style scoped>\n",
       "    .dataframe tbody tr th:only-of-type {\n",
       "        vertical-align: middle;\n",
       "    }\n",
       "\n",
       "    .dataframe tbody tr th {\n",
       "        vertical-align: top;\n",
       "    }\n",
       "\n",
       "    .dataframe thead th {\n",
       "        text-align: right;\n",
       "    }\n",
       "</style>\n",
       "<table border=\"1\" class=\"dataframe\">\n",
       "  <thead>\n",
       "    <tr style=\"text-align: right;\">\n",
       "      <th></th>\n",
       "      <th>NAME</th>\n",
       "      <th>the_geom</th>\n",
       "      <th>LINE</th>\n",
       "      <th>NOTES</th>\n",
       "    </tr>\n",
       "  </thead>\n",
       "  <tbody>\n",
       "    <tr>\n",
       "      <th>144</th>\n",
       "      <td>Metropolitan Ave</td>\n",
       "      <td>[-73.9514239994525, 40.71277400073426]</td>\n",
       "      <td>[G]</td>\n",
       "      <td>[G-all times]</td>\n",
       "    </tr>\n",
       "  </tbody>\n",
       "</table>\n",
       "</div>"
      ],
      "text/plain": [
       "                 NAME                                the_geom LINE  \\\n",
       "144  Metropolitan Ave  [-73.9514239994525, 40.71277400073426]  [G]   \n",
       "\n",
       "             NOTES  \n",
       "144  [G-all times]  "
      ]
     },
     "execution_count": 21,
     "metadata": {},
     "output_type": "execute_result"
    }
   ],
   "source": [
    "df[df['NAME']=='Metropolitan Ave']"
   ]
  },
  {
   "cell_type": "code",
   "execution_count": 8,
   "id": "ca963454-c46a-4ffb-9dec-37ab0d452465",
   "metadata": {
    "tags": []
   },
   "outputs": [],
   "source": [
    "station_graph = {}\n",
    "for i in range(len(df)):\n",
    "    station = df.loc[i]['NAME']\n",
    "    # if station in list(station_graph.keys()):\n",
    "    #     station = station + '_'\n",
    "    connections = []\n",
    "    for j in range(len(df)):\n",
    "        if j == i:\n",
    "            continue\n",
    "        else:\n",
    "            a_set = set(df.loc[i]['LINE'])\n",
    "            b_set = set(df.loc[j]['LINE'])\n",
    "            if len(a_set.intersection(b_set)) > 0:\n",
    "                connections.append(df.loc[j]['NAME'])\n",
    "    station_graph[station] = connections\n"
   ]
  },
  {
   "cell_type": "code",
   "execution_count": 97,
   "id": "ce0d4b75-3132-4b89-a65b-e0ccb9ed2b4a",
   "metadata": {
    "tags": []
   },
   "outputs": [],
   "source": [
    "def find_all_paths(graph, start, end, path=[]):\n",
    "    if start in path:\n",
    "        return []\n",
    "    path = path + [start]\n",
    "    if start == end:\n",
    "        return [path]\n",
    "    if not start in list(graph.keys()):\n",
    "        return []\n",
    "    paths = []\n",
    "    for node in graph[start]:\n",
    "        if node not in path and len(path) < 4:\n",
    "            newpaths = find_all_paths(graph, node, end, path)\n",
    "            for newpath in newpaths:\n",
    "                paths.append(newpath)\n",
    "    return paths\n",
    "def find_shortest_paths(graph, start, end, path=[]):\n",
    "    paths = find_all_paths(station_graph, start, end)\n",
    "    return [x for x in paths if len(x) == len(min(paths, key=len))]\n",
    "def find_common_lines(station1, station2):\n",
    "    return set(list(a[a['NAME'] == station1]['LINE'].values)[0]).intersection(set(list(a[a['NAME'] == station2]['LINE'].values)[0]))\n",
    "def find_connecting_lines(paths, unique = True):\n",
    "    line_paths = []\n",
    "    for path in paths:\n",
    "        lines = []\n",
    "        for i in range(len(path)-1):\n",
    "            lines.append(find_common_lines(path[i],path[i+1]))\n",
    "        if lines not in line_paths or not unique:\n",
    "            line_paths.append(lines)\n",
    "    return line_paths\n",
    "def verify_solution(answer, solution):\n",
    "    for y in range(np.shape(solution)[1]):\n",
    "        if y == 0:\n",
    "            verify = np.array([answer[y] in x for x in np.array(solution)[:,y].flatten()])\n",
    "        else:\n",
    "            verify = verify & np.array([answer[y] in x for x in np.array(solution)[:,y].flatten()])\n",
    "    return bool(verify)"
   ]
  },
  {
   "cell_type": "code",
   "execution_count": 98,
   "id": "b67cebd8-34b6-4f23-abd6-8d6c0205c3ab",
   "metadata": {
    "tags": []
   },
   "outputs": [
    {
     "data": {
      "text/plain": [
       "[['Astor Pl', 'Bergen St', '50th St'],\n",
       " ['Astor Pl', 'Franklin Ave', '50th St'],\n",
       " ['Astor Pl', '149th St - Grand Concourse', '50th St'],\n",
       " ['Astor Pl', 'Grand Army Plaza', '50th St'],\n",
       " ['Astor Pl', \"Atlantic Av - Barclay's Center\", '50th St'],\n",
       " ['Astor Pl', 'Borough Hall', '50th St'],\n",
       " ['Astor Pl', 'Nevins St', '50th St'],\n",
       " ['Astor Pl', 'Eastern Pkwy - Bklyn Museum', '50th St'],\n",
       " ['Astor Pl', 'Fulton St_', '50th St']]"
      ]
     },
     "execution_count": 98,
     "metadata": {},
     "output_type": "execute_result"
    }
   ],
   "source": [
    "find_shortest_paths(station_graph, 'Astor Pl', '50th St')"
   ]
  },
  {
   "cell_type": "code",
   "execution_count": 99,
   "id": "d75194ed-2f57-4542-8d6f-f9ff050191a5",
   "metadata": {},
   "outputs": [],
   "source": [
    "test = find_connecting_lines(find_shortest_paths(station_graph, 'Astor Pl', 'Hunters Point Ave'))\n",
    "# fewest_subways = np.array(test).shape[1]\n",
    "# num_solutions = np.array(test).shape[0]\n"
   ]
  },
  {
   "cell_type": "code",
   "execution_count": 101,
   "id": "b0be3fbf-2f7f-4a5c-8258-c4a9b7a73384",
   "metadata": {},
   "outputs": [
    {
     "data": {
      "text/plain": [
       "True"
      ]
     },
     "execution_count": 101,
     "metadata": {},
     "output_type": "execute_result"
    }
   ],
   "source": [
    "verify_solution(['6 Express','7'], test)"
   ]
  },
  {
   "cell_type": "code",
   "execution_count": null,
   "id": "8b0184c5-34a8-4ffa-b94f-fa039670c68a",
   "metadata": {},
   "outputs": [],
   "source": []
  },
  {
   "cell_type": "code",
   "execution_count": null,
   "id": "9cf133f9-a59f-4b1d-906c-032aeb61960d",
   "metadata": {},
   "outputs": [],
   "source": []
  }
 ],
 "metadata": {
  "kernelspec": {
   "display_name": "Python 3 (ipykernel)",
   "language": "python",
   "name": "python3"
  },
  "language_info": {
   "codemirror_mode": {
    "name": "ipython",
    "version": 3
   },
   "file_extension": ".py",
   "mimetype": "text/x-python",
   "name": "python",
   "nbconvert_exporter": "python",
   "pygments_lexer": "ipython3",
   "version": "3.9.7"
  }
 },
 "nbformat": 4,
 "nbformat_minor": 5
}
