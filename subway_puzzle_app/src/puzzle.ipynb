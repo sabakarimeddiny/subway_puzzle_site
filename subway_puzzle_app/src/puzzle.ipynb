{
 "cells": [
  {
   "cell_type": "code",
   "execution_count": 1,
   "id": "e3a2ebd7-1f86-4bae-8a99-b24dac0e54f1",
   "metadata": {},
   "outputs": [],
   "source": [
    "import numpy as np\n",
    "import pandas as pd\n",
    "from puzzle import Puzzle\n",
    "import json\n",
    "import shapely\n",
    "from shapely.geometry import Point\n",
    "from shapely.geometry.polygon import Polygon\n",
    "from shapely.geometry import MultiPolygon\n",
    "import shapely.wkt\n",
    "import fiona"
   ]
  },
  {
   "cell_type": "code",
   "execution_count": 2,
   "id": "d5c7aaa9-beb9-4ed1-bc4e-270439dfe334",
   "metadata": {},
   "outputs": [],
   "source": [
    "a = Puzzle()"
   ]
  },
  {
   "cell_type": "code",
   "execution_count": 3,
   "id": "8071d4b8-d27d-4b12-8573-aa695242a1d6",
   "metadata": {},
   "outputs": [],
   "source": [
    "def get_coord_dist(coords1, coords2):\n",
    "    return np.sqrt(np.sum((np.array(coords1) - np.array(coords2))**2))"
   ]
  },
  {
   "cell_type": "code",
   "execution_count": 4,
   "id": "9ffb7b2a-6c87-4d07-861e-5b65d213b434",
   "metadata": {},
   "outputs": [
    {
     "data": {
      "text/html": [
       "<div>\n",
       "<style scoped>\n",
       "    .dataframe tbody tr th:only-of-type {\n",
       "        vertical-align: middle;\n",
       "    }\n",
       "\n",
       "    .dataframe tbody tr th {\n",
       "        vertical-align: top;\n",
       "    }\n",
       "\n",
       "    .dataframe thead th {\n",
       "        text-align: right;\n",
       "    }\n",
       "</style>\n",
       "<table border=\"1\" class=\"dataframe\">\n",
       "  <thead>\n",
       "    <tr style=\"text-align: right;\">\n",
       "      <th></th>\n",
       "      <th>NAME</th>\n",
       "      <th>the_geom</th>\n",
       "      <th>LINE</th>\n",
       "      <th>NOTES</th>\n",
       "    </tr>\n",
       "  </thead>\n",
       "  <tbody>\n",
       "    <tr>\n",
       "      <th>89</th>\n",
       "      <td>Canal St (SoHo-TriBeCa-Civic Center-Little Ita...</td>\n",
       "      <td>[-74.0062770001748, 40.72285399778783]</td>\n",
       "      <td>[1]</td>\n",
       "      <td>[1-all times,  2-nights]</td>\n",
       "    </tr>\n",
       "  </tbody>\n",
       "</table>\n",
       "</div>"
      ],
      "text/plain": [
       "                                                 NAME  \\\n",
       "89  Canal St (SoHo-TriBeCa-Civic Center-Little Ita...   \n",
       "\n",
       "                                  the_geom LINE                     NOTES  \n",
       "89  [-74.0062770001748, 40.72285399778783]  [1]  [1-all times,  2-nights]  "
      ]
     },
     "execution_count": 4,
     "metadata": {},
     "output_type": "execute_result"
    }
   ],
   "source": [
    "a.subway_table[a.subway_table['NAME'] =='Canal St (SoHo-TriBeCa-Civic Center-Little Italy)']"
   ]
  },
  {
   "cell_type": "code",
   "execution_count": 5,
   "id": "b67cebd8-34b6-4f23-abd6-8d6c0205c3ab",
   "metadata": {
    "tags": []
   },
   "outputs": [
    {
     "data": {
      "text/plain": [
       "[[['6'], ['N'], ['1']],\n",
       " [['6'], ['N', 'R'], ['1']],\n",
       " [['6'], ['Q', 'N', 'R'], ['1']]]"
      ]
     },
     "execution_count": 5,
     "metadata": {},
     "output_type": "execute_result"
    }
   ],
   "source": [
    "a.find_connecting_lines(a.find_shortest_paths('Astor Pl (West Village)', '50th St (Midtown-Midtown South)'))"
   ]
  },
  {
   "cell_type": "code",
   "execution_count": 10,
   "id": "d75194ed-2f57-4542-8d6f-f9ff050191a5",
   "metadata": {},
   "outputs": [
    {
     "ename": "NameError",
     "evalue": "name 'find_connecting_lines' is not defined",
     "output_type": "error",
     "traceback": [
      "\u001b[0;31m---------------------------------------------------------------------------\u001b[0m",
      "\u001b[0;31mNameError\u001b[0m                                 Traceback (most recent call last)",
      "\u001b[0;32m/var/folders/c3/9y335k5s08sdzh29h22cmxhm0000gn/T/ipykernel_32550/2425411464.py\u001b[0m in \u001b[0;36m<module>\u001b[0;34m\u001b[0m\n\u001b[0;32m----> 1\u001b[0;31m \u001b[0mtest\u001b[0m \u001b[0;34m=\u001b[0m \u001b[0mfind_connecting_lines\u001b[0m\u001b[0;34m(\u001b[0m\u001b[0mfind_shortest_paths\u001b[0m\u001b[0;34m(\u001b[0m\u001b[0mstation_graph\u001b[0m\u001b[0;34m,\u001b[0m \u001b[0;34m'Astor Pl'\u001b[0m\u001b[0;34m,\u001b[0m \u001b[0;34m'Hunters Point Ave'\u001b[0m\u001b[0;34m)\u001b[0m\u001b[0;34m)\u001b[0m\u001b[0;34m\u001b[0m\u001b[0;34m\u001b[0m\u001b[0m\n\u001b[0m\u001b[1;32m      2\u001b[0m \u001b[0;31m# fewest_subways = np.array(test).shape[1]\u001b[0m\u001b[0;34m\u001b[0m\u001b[0;34m\u001b[0m\u001b[0m\n\u001b[1;32m      3\u001b[0m \u001b[0;31m# num_solutions = np.array(test).shape[0]\u001b[0m\u001b[0;34m\u001b[0m\u001b[0;34m\u001b[0m\u001b[0m\n",
      "\u001b[0;31mNameError\u001b[0m: name 'find_connecting_lines' is not defined"
     ]
    }
   ],
   "source": [
    "test = find_connecting_lines(find_shortest_paths(station_graph, 'Astor Pl', 'Hunters Point Ave'))\n",
    "# fewest_subways = np.array(test).shape[1]\n",
    "# num_solutions = np.array(test).shape[0]\n"
   ]
  },
  {
   "cell_type": "code",
   "execution_count": 11,
   "id": "b0be3fbf-2f7f-4a5c-8258-c4a9b7a73384",
   "metadata": {},
   "outputs": [
    {
     "ename": "NameError",
     "evalue": "name 'verify_solution' is not defined",
     "output_type": "error",
     "traceback": [
      "\u001b[0;31m---------------------------------------------------------------------------\u001b[0m",
      "\u001b[0;31mNameError\u001b[0m                                 Traceback (most recent call last)",
      "\u001b[0;32m/var/folders/c3/9y335k5s08sdzh29h22cmxhm0000gn/T/ipykernel_32550/1996491584.py\u001b[0m in \u001b[0;36m<module>\u001b[0;34m\u001b[0m\n\u001b[0;32m----> 1\u001b[0;31m \u001b[0mverify_solution\u001b[0m\u001b[0;34m(\u001b[0m\u001b[0;34m[\u001b[0m\u001b[0;34m'6 Express'\u001b[0m\u001b[0;34m,\u001b[0m\u001b[0;34m'7'\u001b[0m\u001b[0;34m]\u001b[0m\u001b[0;34m,\u001b[0m \u001b[0mtest\u001b[0m\u001b[0;34m)\u001b[0m\u001b[0;34m\u001b[0m\u001b[0;34m\u001b[0m\u001b[0m\n\u001b[0m",
      "\u001b[0;31mNameError\u001b[0m: name 'verify_solution' is not defined"
     ]
    }
   ],
   "source": [
    "verify_solution(['6 Express','7'], test)"
   ]
  },
  {
   "cell_type": "code",
   "execution_count": null,
   "id": "8b0184c5-34a8-4ffa-b94f-fa039670c68a",
   "metadata": {},
   "outputs": [],
   "source": []
  },
  {
   "cell_type": "code",
   "execution_count": null,
   "id": "9cf133f9-a59f-4b1d-906c-032aeb61960d",
   "metadata": {},
   "outputs": [],
   "source": []
  }
 ],
 "metadata": {
  "kernelspec": {
   "display_name": "Python 3 (ipykernel)",
   "language": "python",
   "name": "python3"
  },
  "language_info": {
   "codemirror_mode": {
    "name": "ipython",
    "version": 3
   },
   "file_extension": ".py",
   "mimetype": "text/x-python",
   "name": "python",
   "nbconvert_exporter": "python",
   "pygments_lexer": "ipython3",
   "version": "3.9.7"
  }
 },
 "nbformat": 4,
 "nbformat_minor": 5
}
