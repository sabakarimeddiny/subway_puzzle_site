{
 "cells": [
  {
   "cell_type": "code",
   "execution_count": 1,
   "id": "e3a2ebd7-1f86-4bae-8a99-b24dac0e54f1",
   "metadata": {},
   "outputs": [],
   "source": [
    "import numpy as np\n",
    "import pandas as pd\n",
    "from puzzle import Puzzle\n",
    "import json\n",
    "import shapely\n",
    "from shapely.geometry import Point\n",
    "from shapely.geometry.polygon import Polygon\n",
    "from shapely.geometry import MultiPolygon\n",
    "import shapely.wkt\n",
    "import fiona"
   ]
  },
  {
   "cell_type": "code",
   "execution_count": 2,
   "id": "d5c7aaa9-beb9-4ed1-bc4e-270439dfe334",
   "metadata": {},
   "outputs": [],
   "source": [
    "a = Puzzle()"
   ]
  },
  {
   "cell_type": "code",
   "execution_count": 3,
   "id": "b67cebd8-34b6-4f23-abd6-8d6c0205c3ab",
   "metadata": {
    "tags": []
   },
   "outputs": [],
   "source": [
    "test = a.find_connecting_lines(a.find_shortest_paths('Astor Pl (West Village)', '50th St (Midtown-Midtown South)'))"
   ]
  },
  {
   "cell_type": "code",
   "execution_count": 4,
   "id": "26d5b601-e7ea-4e8a-94a4-5cfa165bb8ca",
   "metadata": {},
   "outputs": [
    {
     "data": {
      "text/plain": [
       "[[['6'], ['N'], ['1']],\n",
       " [['6'], ['N', 'R'], ['1']],\n",
       " [['6'], ['Q', 'N', 'R'], ['1']]]"
      ]
     },
     "execution_count": 4,
     "metadata": {},
     "output_type": "execute_result"
    }
   ],
   "source": [
    "test"
   ]
  },
  {
   "cell_type": "code",
   "execution_count": 4,
   "id": "dab6ec63-d3d6-4a35-b075-0d27efd6d34f",
   "metadata": {},
   "outputs": [
    {
     "name": "stderr",
     "output_type": "stream",
     "text": [
      "/var/folders/c3/9y335k5s08sdzh29h22cmxhm0000gn/T/ipykernel_15712/3405564260.py:1: VisibleDeprecationWarning: Creating an ndarray from ragged nested sequences (which is a list-or-tuple of lists-or-tuples-or ndarrays with different lengths or shapes) is deprecated. If you meant to do this, you must specify 'dtype=object' when creating the ndarray.\n",
      "  set([x for y in np.array(test)[:,1] for x in y])\n"
     ]
    },
    {
     "data": {
      "text/plain": [
       "{'N', 'Q', 'R'}"
      ]
     },
     "execution_count": 4,
     "metadata": {},
     "output_type": "execute_result"
    }
   ],
   "source": [
    "set([x for y in np.array(test)[:,1] for x in y])"
   ]
  },
  {
   "cell_type": "code",
   "execution_count": 9,
   "id": "51a7b9a6-521c-4b5f-b287-69cf0ecb42b2",
   "metadata": {},
   "outputs": [
    {
     "data": {
      "text/plain": [
       "array([0.5, 1. , 1. ])"
      ]
     },
     "execution_count": 9,
     "metadata": {},
     "output_type": "execute_result"
    }
   ],
   "source": [
    "a.check_solution(['N','N','1'], test)"
   ]
  },
  {
   "cell_type": "code",
   "execution_count": 8,
   "id": "ec4042a9-41dd-43b2-b160-5c843ceb00c7",
   "metadata": {},
   "outputs": [
    {
     "data": {
      "text/plain": [
       "array([1., 1., 0.])"
      ]
     },
     "execution_count": 8,
     "metadata": {},
     "output_type": "execute_result"
    }
   ],
   "source": [
    "a.check_solution(['6','N','Z'], test)"
   ]
  },
  {
   "cell_type": "code",
   "execution_count": 6,
   "id": "b0be3fbf-2f7f-4a5c-8258-c4a9b7a73384",
   "metadata": {},
   "outputs": [
    {
     "data": {
      "text/plain": [
       "True"
      ]
     },
     "execution_count": 6,
     "metadata": {},
     "output_type": "execute_result"
    }
   ],
   "source": [
    "a.verify_solution(['6','N','1'], test)"
   ]
  },
  {
   "cell_type": "code",
   "execution_count": 15,
   "id": "e3df4796-f22c-461b-b668-7c1cf2316b6d",
   "metadata": {},
   "outputs": [
    {
     "name": "stderr",
     "output_type": "stream",
     "text": [
      "/var/folders/c3/9y335k5s08sdzh29h22cmxhm0000gn/T/ipykernel_4891/2403482081.py:1: VisibleDeprecationWarning: Creating an ndarray from ragged nested sequences (which is a list-or-tuple of lists-or-tuples-or ndarrays with different lengths or shapes) is deprecated. If you meant to do this, you must specify 'dtype=object' when creating the ndarray.\n",
      "  z = np.array([[['2'], ['R', 'N', 'Q'], ['F']],\n"
     ]
    }
   ],
   "source": [
    "z = np.array([[['2'], ['R', 'N', 'Q'], ['F']],\n",
    " [['2'], ['Q'], ['F']],\n",
    " [['2'], ['R'], ['F']],\n",
    " [['2'], ['N', 'Q'], ['F']],\n",
    " [['2'], ['J'], ['F']],\n",
    " [['2'], ['A', 'C'], ['F']]])"
   ]
  },
  {
   "cell_type": "code",
   "execution_count": 17,
   "id": "3ac299e5-5dbd-43b0-b3ce-c1753e595026",
   "metadata": {},
   "outputs": [
    {
     "data": {
      "text/plain": [
       "3"
      ]
     },
     "execution_count": 17,
     "metadata": {},
     "output_type": "execute_result"
    }
   ],
   "source": [
    "len(z[0])"
   ]
  },
  {
   "cell_type": "code",
   "execution_count": null,
   "id": "4118b327-b970-483c-9ae2-651ff6379d61",
   "metadata": {},
   "outputs": [],
   "source": []
  }
 ],
 "metadata": {
  "kernelspec": {
   "display_name": "Python 3 (ipykernel)",
   "language": "python",
   "name": "python3"
  },
  "language_info": {
   "codemirror_mode": {
    "name": "ipython",
    "version": 3
   },
   "file_extension": ".py",
   "mimetype": "text/x-python",
   "name": "python",
   "nbconvert_exporter": "python",
   "pygments_lexer": "ipython3",
   "version": "3.9.7"
  }
 },
 "nbformat": 4,
 "nbformat_minor": 5
}
